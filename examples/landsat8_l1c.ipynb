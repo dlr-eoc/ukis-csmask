{
 "cells": [
  {
   "cell_type": "markdown",
   "metadata": {},
   "source": [
    "# Segment clouds and cloud shadows in Landsat-8 images (L1C)\n",
    "This notebook shows an example on how to use [ukis-csmask](https://github.com/dlr-eoc/ukis-csmask) to segment clouds and cloud shadows in Level-1C images from Landsat-8. Images are loaded from local file system. Here we use [ukis-pysat](https://github.com/dlr-eoc/ukis-pysat) for convencience image handling, but you can also work directly with [numpy](https://numpy.org/) arrays.\n",
    "\n",
    "> NOTE: to run this notebook, we first need to install some additional dependencies for image handling\n",
    "```shell\n",
    "pip install ukis-pysat[complete]\n",
    "```"
   ]
  },
  {
   "cell_type": "code",
   "execution_count": null,
   "id": "703f3744-902d-470b-a80f-9a8d3ea08dfa",
   "metadata": {},
   "outputs": [],
   "source": [
    "import rasterio\n",
    "import numpy as np\n",
    "\n",
    "from pathlib import Path\n",
    "from ukis_csmask.mask import CSmask\n",
    "from ukis_pysat.raster import Image, Platform"
   ]
  },
  {
   "cell_type": "code",
   "execution_count": null,
   "id": "c9cd86e4",
   "metadata": {},
   "outputs": [],
   "source": [
    "# user settings\n",
    "data_path = \"/your_data_path/\"\n",
    "L8_file_prefix = \"LC08_L1TP_191015_20210428_20210507_02_T1\"\n",
    "product_level = \"l1c\"\n",
    "band_order = [\"blue\", \"green\", \"red\", \"nir\", \"swir16\", \"swir22\"]\n",
    "providers = [\"CUDAExecutionProvider\"]\n",
    "out_dir = \"ukis-csmask/examples\""
   ]
  },
  {
   "cell_type": "code",
   "execution_count": null,
   "id": "8ca03c78-1e24-479c-9786-a1b43206a08b",
   "metadata": {},
   "outputs": [],
   "source": [
    "# set Landsat 8 source path and prefix (example)\n",
    "data_path = data_path + L8_file_prefix + \"/\"\n",
    "mtl_file = data_path + L8_file_prefix + \"_MTL.txt\"\n",
    "\n",
    "# stack [B2:'Blue', B3:'Green', B4:'Red', B5:'NIR', B6:'SWIR1', B7:'SWIR2'] as numpy array\n",
    "L8_band_files = [data_path + L8_file_prefix + \"_B\" + x + \".TIF\" for x in [str(x + 2) for x in range(6)]]\n",
    "\n",
    "# >> adopted from https://gis.stackexchange.com/questions/223910/using-rasterio-or-gdal-to-stack-multiple-bands-without-using-subprocess-commands\n",
    "# read metadata of first file\n",
    "with rasterio.open(L8_band_files[0]) as src0:\n",
    "    meta = src0.meta\n",
    "# update meta to reflect the number of layers\n",
    "meta.update(count=len(L8_band_files))\n",
    "# read each layer and append it to numpy array\n",
    "L8_bands = []\n",
    "for id, layer in enumerate(L8_band_files, start=1):\n",
    "    with rasterio.open(layer) as src1:\n",
    "        L8_bands.append(src1.read(1))\n",
    "L8_bands = np.stack(L8_bands, axis=2)\n",
    "# <<\n",
    "\n",
    "img = Image(data=L8_bands, crs=meta[\"crs\"], transform=meta[\"transform\"], dimorder=\"last\")\n",
    "img.dn2toa(platform=Platform.Landsat8, mtl_file=mtl_file, wavelengths=band_order)\n",
    "img.warp(resampling_method=0, resolution=30, dst_crs=img.dataset.crs)"
   ]
  },
  {
   "cell_type": "code",
   "execution_count": null,
   "id": "7b568942-84e6-4baf-b490-a213b3787f80",
   "metadata": {},
   "outputs": [],
   "source": [
    "# compute cloud and cloud shadow mask\n",
    "csmask = CSmask(\n",
    "    img=img.arr,\n",
    "    band_order=band_order,\n",
    "    product_level=product_level,\n",
    "    nodata_value=0,\n",
    "    invalid_buffer=4,\n",
    "    intra_op_num_threads=0,\n",
    "    inter_op_num_threads=0,\n",
    "    providers=providers,\n",
    "    batch_size=1,\n",
    ")\n",
    "\n",
    "# access cloud and cloud shadow mask as numpy array\n",
    "csm = csmask.csm\n",
    "\n",
    "# access valid mask as numpy array\n",
    "valid = csmask.valid"
   ]
  },
  {
   "cell_type": "code",
   "execution_count": null,
   "id": "68eb9c30-06f7-409e-914d-21e00f45de99",
   "metadata": {},
   "outputs": [],
   "source": [
    "# convert results to ukis-pysat Image\n",
    "# this assigns back the georeference\n",
    "csm = Image(csm, transform=img.dataset.transform, crs=img.dataset.crs, dimorder=\"last\")\n",
    "valid = Image(valid, transform=img.dataset.transform, crs=img.dataset.crs, dimorder=\"last\")\n",
    "\n",
    "# write results to file\n",
    "csm.write_to_file(\n",
    "    path_to_file=Path(out_dir) / Path(f\"{L8_file_prefix}_csm.tif\"),\n",
    "    dtype=csm.dtype,\n",
    "    driver=\"COG\",\n",
    "    compress=\"LZW\",\n",
    "    kwargs={\"BLOCKSIZE\": 512, \"BIGTIFF\": \"IF_SAFER\"},\n",
    ")\n",
    "valid.write_to_file(\n",
    "    path_to_file=Path(out_dir) / Path(f\"{L8_file_prefix}_valid.tif\"),\n",
    "    dtype=valid.dtype,\n",
    "    driver=\"COG\",\n",
    "    compress=\"LZW\",\n",
    "    kwargs={\"BLOCKSIZE\": 512, \"BIGTIFF\": \"IF_SAFER\"},\n",
    ")"
   ]
  }
 ],
 "metadata": {
  "kernelspec": {
   "display_name": "Python 3 (ipykernel)",
   "language": "python",
   "name": "python3"
  },
  "language_info": {
   "codemirror_mode": {
    "name": "ipython",
    "version": 3
   },
   "file_extension": ".py",
   "mimetype": "text/x-python",
   "name": "python",
   "nbconvert_exporter": "python",
   "pygments_lexer": "ipython3",
   "version": "3.11.10"
  }
 },
 "nbformat": 4,
 "nbformat_minor": 5
}
