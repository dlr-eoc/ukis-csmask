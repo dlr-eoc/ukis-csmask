{
 "cells": [
  {
   "cell_type": "markdown",
   "metadata": {},
   "source": [
    "# Segment clouds and cloud shadows in Sentinel-2 images (L1C)\n",
    "This notebook shows an example on how to use [ukis-csmask](https://github.com/dlr-eoc/ukis-csmask) to segment clouds and cloud shadows in Level-1C images from Sentinel-2 using only 4 spectral bands. Images are loaded from local file system. Here we use [ukis-pysat](https://github.com/dlr-eoc/ukis-pysat) for convencience image handling, but you can also work directly with [numpy](https://numpy.org/) arrays.\n",
    "\n",
    "> NOTE: to run this notebook, we first need to install some additional dependencies for image handling\n",
    "```shell\n",
    "pip install ukis-pysat[complete]\n",
    "```"
   ]
  },
  {
   "cell_type": "code",
   "execution_count": null,
   "id": "703f3744-902d-470b-a80f-9a8d3ea08dfa",
   "metadata": {},
   "outputs": [],
   "source": [
    "from pathlib import Path\n",
    "from ukis_csmask.mask import CSmask\n",
    "from ukis_pysat.raster import Image, Platform"
   ]
  },
  {
   "cell_type": "code",
   "execution_count": null,
   "id": "c9cd86e4",
   "metadata": {},
   "outputs": [],
   "source": [
    "# user settings\n",
    "img_file = \"sentinel2.tif\"\n",
    "product_level = \"l1c\"\n",
    "band_order = [\"blue\", \"green\", \"red\", \"nir\"]\n",
    "providers = [\"CUDAExecutionProvider\"]\n",
    "out_dir = \"ukis-csmask/examples\""
   ]
  },
  {
   "cell_type": "code",
   "execution_count": null,
   "id": "8ca03c78-1e24-479c-9786-a1b43206a08b",
   "metadata": {},
   "outputs": [],
   "source": [
    "# read Level-1C image from file, convert digital numbers to TOA reflectance\n",
    "# and make sure resolution is 30 m to get best performance\n",
    "img = Image(data=img_file, dimorder=\"last\")\n",
    "img.dn2toa(platform=Platform.Sentinel2, wavelengths=band_order)\n",
    "img.warp(resampling_method=0, resolution=30, dst_crs=img.dataset.crs)"
   ]
  },
  {
   "cell_type": "code",
   "execution_count": null,
   "id": "7b568942-84e6-4baf-b490-a213b3787f80",
   "metadata": {},
   "outputs": [],
   "source": [
    "# compute cloud and cloud shadow mask\n",
    "csmask = CSmask(\n",
    "    img=img.arr,\n",
    "    band_order=band_order,\n",
    "    product_level=product_level,\n",
    "    nodata_value=0,\n",
    "    invalid_buffer=4,\n",
    "    intra_op_num_threads=0,\n",
    "    inter_op_num_threads=0,\n",
    "    providers=providers,\n",
    "    batch_size=1,\n",
    ")\n",
    "\n",
    "# access cloud and cloud shadow mask as numpy array\n",
    "csm = csmask.csm\n",
    "\n",
    "# access valid mask as numpy array\n",
    "valid = csmask.valid"
   ]
  },
  {
   "cell_type": "code",
   "execution_count": null,
   "id": "68eb9c30-06f7-409e-914d-21e00f45de99",
   "metadata": {},
   "outputs": [],
   "source": [
    "# convert results to ukis-pysat Image\n",
    "# this assigns back the georeference\n",
    "csm = Image(csm, transform=img.dataset.transform, crs=img.dataset.crs, dimorder=\"last\")\n",
    "valid = Image(valid, transform=img.dataset.transform, crs=img.dataset.crs, dimorder=\"last\")\n",
    "\n",
    "# write results to file\n",
    "csm.write_to_file(\n",
    "    path_to_file=Path(out_dir) / Path(f\"{Path(img_file).name}_csm.tif\"),\n",
    "    dtype=csm.dtype,\n",
    "    driver=\"COG\",\n",
    "    compress=\"LZW\",\n",
    "    kwargs={\"BLOCKSIZE\": 512, \"BIGTIFF\": \"IF_SAFER\"},\n",
    ")\n",
    "valid.write_to_file(\n",
    "    path_to_file=Path(out_dir) / Path(f\"{Path(img_file).name}_valid.tif\"),\n",
    "    dtype=valid.dtype,\n",
    "    driver=\"COG\",\n",
    "    compress=\"LZW\",\n",
    "    kwargs={\"BLOCKSIZE\": 512, \"BIGTIFF\": \"IF_SAFER\"},\n",
    ")"
   ]
  }
 ],
 "metadata": {
  "kernelspec": {
   "display_name": "Python 3 (ipykernel)",
   "language": "python",
   "name": "python3"
  },
  "language_info": {
   "codemirror_mode": {
    "name": "ipython",
    "version": 3
   },
   "file_extension": ".py",
   "mimetype": "text/x-python",
   "name": "python",
   "nbconvert_exporter": "python",
   "pygments_lexer": "ipython3",
   "version": "3.11.10"
  }
 },
 "nbformat": 4,
 "nbformat_minor": 5
}
