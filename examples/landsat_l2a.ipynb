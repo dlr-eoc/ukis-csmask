{
 "cells": [
  {
   "cell_type": "markdown",
   "metadata": {},
   "source": [
    "# Segment clouds and cloud shadows in Landsat images (L2A)\n",
    "This notebook shows an example on how to use [ukis-csmask]() to segment clouds and cloud shadows in Level-2A images from Landsat-9, Landsat-8, Landsat-7 and Landsat-5 satellites. Images are acquired from [Planetary Computer]() and are prepared according to [ukis-csmask]() requirements.\n",
    "\n",
    "> NOTE: to run this notebook, we first need to install some additional dependencies for work with Planetary Computer\n",
    "```shell\n",
    "pip install planetary_computer pystac-client odc-stac tqdm\n",
    "pip install -e git+https://github.com/dlr-eoc/ukis-csmask/tree/l2a#egg=ukis-csmask[gpu]\n",
    "```"
   ]
  },
  {
   "cell_type": "code",
   "execution_count": 1,
   "id": "703f3744-902d-470b-a80f-9a8d3ea08dfa",
   "metadata": {},
   "outputs": [],
   "source": [
    "import numpy as np\n",
    "import planetary_computer as pc\n",
    "\n",
    "from odc.stac import load\n",
    "from pystac_client import Client\n",
    "from tqdm import tqdm\n",
    "from ukis_csmask.mask import CSmask"
   ]
  },
  {
   "cell_type": "code",
   "execution_count": 13,
   "id": "8ca03c78-1e24-479c-9786-a1b43206a08b",
   "metadata": {},
   "outputs": [],
   "source": [
    "stac_api_endpoint = \"https://planetarycomputer.microsoft.com/api/stac/v1\"\n",
    "collections = [\"landsat-c2-l2\"]\n",
    "ids = [\n",
    "    \"LC09_L2SP_194027_20240604_02_T1\",\n",
    "    \"LC08_L2SP_191027_20240607_02_T1\",\n",
    "    \"LE07_L2SP_192027_20050805_02_T1\",\n",
    "    \"LT05_L2SP_192026_20100726_02_T1\",\n",
    "]\n",
    "bbox = [11.016, 47.666, 12.238, 48.472]\n",
    "product_level = \"l2a\"\n",
    "band_order = [\"blue\", \"green\", \"red\", \"nir\", \"swir16\", \"swir22\"]\n",
    "providers = [\"CUDAExecutionProvider\"]"
   ]
  },
  {
   "cell_type": "code",
   "execution_count": 15,
   "id": "7b568942-84e6-4baf-b490-a213b3787f80",
   "metadata": {},
   "outputs": [
    {
     "name": "stdout",
     "output_type": "stream",
     "text": [
      "Search returned 4 item(s)\n"
     ]
    }
   ],
   "source": [
    "# search catalog by scene id\n",
    "catalog = Client.open(stac_api_endpoint)\n",
    "search = catalog.search(collections=collections, ids=ids)\n",
    "items = [item for item in search.items()]\n",
    "items_cnt = len(items)\n",
    "print(f\"Search returned {items_cnt} item(s)\")"
   ]
  },
  {
   "cell_type": "code",
   "execution_count": 18,
   "id": "68eb9c30-06f7-409e-914d-21e00f45de99",
   "metadata": {},
   "outputs": [
    {
     "name": "stderr",
     "output_type": "stream",
     "text": [
      "Predict images:   0%|          | 0/4 [00:00<?, ?it/s]"
     ]
    },
    {
     "name": "stderr",
     "output_type": "stream",
     "text": [
      "Predict images:   0%|          | 0/4 [02:25<?, ?it/s]"
     ]
    },
    {
     "name": "stdout",
     "output_type": "stream",
     "text": [
      "(6, 6038, 7076) float32\n"
     ]
    },
    {
     "name": "stderr",
     "output_type": "stream",
     "text": [
      "\n"
     ]
    },
    {
     "ename": "FileNotFoundError",
     "evalue": "[Errno 2] No such file or directory: '/mnt/data1/Workspace/python/ukis-csmask/src/ukis-csmask/ukis_csmask/model_6b_l2a.json'",
     "output_type": "error",
     "traceback": [
      "\u001b[0;31m---------------------------------------------------------------------------\u001b[0m",
      "\u001b[0;31mFileNotFoundError\u001b[0m                         Traceback (most recent call last)",
      "Cell \u001b[0;32mIn[18], line 33\u001b[0m\n\u001b[1;32m     30\u001b[0m \u001b[38;5;28mprint\u001b[39m(arr\u001b[38;5;241m.\u001b[39mshape, arr\u001b[38;5;241m.\u001b[39mdtype)\n\u001b[1;32m     32\u001b[0m \u001b[38;5;66;03m# compute cloud and cloud shadow mask\u001b[39;00m\n\u001b[0;32m---> 33\u001b[0m csmask \u001b[38;5;241m=\u001b[39m \u001b[43mCSmask\u001b[49m\u001b[43m(\u001b[49m\n\u001b[1;32m     34\u001b[0m \u001b[43m    \u001b[49m\u001b[43mimg\u001b[49m\u001b[38;5;241;43m=\u001b[39;49m\u001b[43mnp\u001b[49m\u001b[38;5;241;43m.\u001b[39;49m\u001b[43mmoveaxis\u001b[49m\u001b[43m(\u001b[49m\u001b[43marr\u001b[49m\u001b[38;5;241;43m.\u001b[39;49m\u001b[43mto_numpy\u001b[49m\u001b[43m(\u001b[49m\u001b[43m)\u001b[49m\u001b[43m,\u001b[49m\u001b[43m \u001b[49m\u001b[38;5;241;43m0\u001b[39;49m\u001b[43m,\u001b[49m\u001b[43m \u001b[49m\u001b[38;5;241;43m-\u001b[39;49m\u001b[38;5;241;43m1\u001b[39;49m\u001b[43m)\u001b[49m\u001b[43m,\u001b[49m\n\u001b[1;32m     35\u001b[0m \u001b[43m    \u001b[49m\u001b[43mband_order\u001b[49m\u001b[38;5;241;43m=\u001b[39;49m\u001b[43mband_order\u001b[49m\u001b[43m,\u001b[49m\n\u001b[1;32m     36\u001b[0m \u001b[43m    \u001b[49m\u001b[43mproduct_level\u001b[49m\u001b[38;5;241;43m=\u001b[39;49m\u001b[43mproduct_level\u001b[49m\u001b[43m,\u001b[49m\n\u001b[1;32m     37\u001b[0m \u001b[43m    \u001b[49m\u001b[43mnodata_value\u001b[49m\u001b[38;5;241;43m=\u001b[39;49m\u001b[38;5;241;43m0\u001b[39;49m\u001b[43m,\u001b[49m\n\u001b[1;32m     38\u001b[0m \u001b[43m    \u001b[49m\u001b[43minvalid_buffer\u001b[49m\u001b[38;5;241;43m=\u001b[39;49m\u001b[38;5;241;43m4\u001b[39;49m\u001b[43m,\u001b[49m\n\u001b[1;32m     39\u001b[0m \u001b[43m    \u001b[49m\u001b[43mintra_op_num_threads\u001b[49m\u001b[38;5;241;43m=\u001b[39;49m\u001b[38;5;241;43m0\u001b[39;49m\u001b[43m,\u001b[49m\n\u001b[1;32m     40\u001b[0m \u001b[43m    \u001b[49m\u001b[43minter_op_num_threads\u001b[49m\u001b[38;5;241;43m=\u001b[39;49m\u001b[38;5;241;43m0\u001b[39;49m\u001b[43m,\u001b[49m\n\u001b[1;32m     41\u001b[0m \u001b[43m    \u001b[49m\u001b[43mproviders\u001b[49m\u001b[38;5;241;43m=\u001b[39;49m\u001b[43mproviders\u001b[49m\u001b[43m,\u001b[49m\n\u001b[1;32m     42\u001b[0m \u001b[43m    \u001b[49m\u001b[43mbatch_size\u001b[49m\u001b[38;5;241;43m=\u001b[39;49m\u001b[38;5;241;43m1\u001b[39;49m\u001b[43m,\u001b[49m\n\u001b[1;32m     43\u001b[0m \u001b[43m\u001b[49m\u001b[43m)\u001b[49m\n\u001b[1;32m     45\u001b[0m \u001b[38;5;66;03m# access cloud and cloud shadow mask\u001b[39;00m\n\u001b[1;32m     46\u001b[0m csmask_csm \u001b[38;5;241m=\u001b[39m csmask\u001b[38;5;241m.\u001b[39mcsm\n",
      "File \u001b[0;32m/mnt/data1/Workspace/python/ukis-csmask/src/ukis-csmask/ukis_csmask/mask.py:90\u001b[0m, in \u001b[0;36mCSmask.__init__\u001b[0;34m(self, img, band_order, product_level, nodata_value, invalid_buffer, intra_op_num_threads, inter_op_num_threads, providers, batch_size)\u001b[0m\n\u001b[1;32m     85\u001b[0m \u001b[38;5;28;01melse\u001b[39;00m:\n\u001b[1;32m     86\u001b[0m     \u001b[38;5;28;01mraise\u001b[39;00m \u001b[38;5;167;01mTypeError\u001b[39;00m(\n\u001b[1;32m     87\u001b[0m         \u001b[38;5;124mf\u001b[39m\u001b[38;5;124m\"\u001b[39m\u001b[38;5;124mband_order must contain at least \u001b[39m\u001b[38;5;124m'\u001b[39m\u001b[38;5;124mblue\u001b[39m\u001b[38;5;124m'\u001b[39m\u001b[38;5;124m, \u001b[39m\u001b[38;5;124m'\u001b[39m\u001b[38;5;124mgreen\u001b[39m\u001b[38;5;124m'\u001b[39m\u001b[38;5;124m, \u001b[39m\u001b[38;5;124m'\u001b[39m\u001b[38;5;124mred\u001b[39m\u001b[38;5;124m'\u001b[39m\u001b[38;5;124m, \u001b[39m\u001b[38;5;124m'\u001b[39m\u001b[38;5;124mnir\u001b[39m\u001b[38;5;124m'\u001b[39m\u001b[38;5;124m \u001b[39m\u001b[38;5;124m\"\u001b[39m\n\u001b[1;32m     88\u001b[0m         \u001b[38;5;124mf\u001b[39m\u001b[38;5;124m\"\u001b[39m\u001b[38;5;124mand for better performance also \u001b[39m\u001b[38;5;124m'\u001b[39m\u001b[38;5;124mswir16\u001b[39m\u001b[38;5;124m'\u001b[39m\u001b[38;5;124m and \u001b[39m\u001b[38;5;124m'\u001b[39m\u001b[38;5;124mswir22\u001b[39m\u001b[38;5;124m'\u001b[39m\u001b[38;5;124m\"\u001b[39m\n\u001b[1;32m     89\u001b[0m     )\n\u001b[0;32m---> 90\u001b[0m \u001b[38;5;28;01mwith\u001b[39;00m \u001b[38;5;28;43mopen\u001b[39;49m\u001b[43m(\u001b[49m\u001b[43mPath\u001b[49m\u001b[43m(\u001b[49m\u001b[43mmodel_file\u001b[49m\u001b[43m)\u001b[49m\u001b[38;5;241;43m.\u001b[39;49m\u001b[43mwith_suffix\u001b[49m\u001b[43m(\u001b[49m\u001b[38;5;124;43m\"\u001b[39;49m\u001b[38;5;124;43m.json\u001b[39;49m\u001b[38;5;124;43m\"\u001b[39;49m\u001b[43m)\u001b[49m\u001b[43m)\u001b[49m \u001b[38;5;28;01mas\u001b[39;00m f:\n\u001b[1;32m     91\u001b[0m     model_dict \u001b[38;5;241m=\u001b[39m json\u001b[38;5;241m.\u001b[39mload(f)\n\u001b[1;32m     93\u001b[0m \u001b[38;5;66;03m# start onnx inference session and load model\u001b[39;00m\n",
      "\u001b[0;31mFileNotFoundError\u001b[0m: [Errno 2] No such file or directory: '/mnt/data1/Workspace/python/ukis-csmask/src/ukis-csmask/ukis_csmask/model_6b_l2a.json'"
     ]
    }
   ],
   "source": [
    "import rioxarray\n",
    "\n",
    "for item in tqdm(items, total=items_cnt, desc=\"Predict images\"):\n",
    "    # near infrared band has different alias in landsat collections\n",
    "    bands = [b.replace(\"nir\", \"nir08\") for b in band_order]\n",
    "\n",
    "    # load and preprocess image\n",
    "    arr = (\n",
    "        load(\n",
    "            items=[item],\n",
    "            bands=bands,\n",
    "            resolution=30,\n",
    "            bbox=bbox,\n",
    "            dtype=\"float32\",\n",
    "            patch_url=pc.sign,\n",
    "        )\n",
    "        .to_dataarray()\n",
    "        .squeeze()\n",
    "        .drop_vars(\"time\")\n",
    "    )\n",
    "    arr = arr.rename({\"variable\": \"band\"})\n",
    "    arr.rio.to_raster(raster_path=\"l8.tif\", driver=\"COG\")\n",
    "\n",
    "    # use band-specific rescale factors to convert DN to reflectance\n",
    "    for idx, band_name in enumerate(bands):\n",
    "        band_info = item.assets[band_name].extra_fields[\"raster:bands\"][0]\n",
    "        arr[idx, :, :] = arr.sel(band=str(band_name)).astype(np.float32) * band_info[\"scale\"]\n",
    "        arr[idx, :, :] += band_info[\"offset\"]\n",
    "        arr[idx, :, :] = arr[idx, :, :].clip(min=0.0, max=1.0)\n",
    "    print(arr.shape, arr.dtype)\n",
    "\n",
    "    # compute cloud and cloud shadow mask\n",
    "    csmask = CSmask(\n",
    "        img=np.moveaxis(arr.to_numpy(), 0, -1),\n",
    "        band_order=band_order,\n",
    "        product_level=product_level,\n",
    "        nodata_value=0,\n",
    "        invalid_buffer=4,\n",
    "        intra_op_num_threads=0,\n",
    "        inter_op_num_threads=0,\n",
    "        providers=providers,\n",
    "        batch_size=1,\n",
    "    )\n",
    "\n",
    "    # access cloud and cloud shadow mask\n",
    "    csmask_csm = csmask.csm\n",
    "\n",
    "    # access valid mask\n",
    "    csmask_valid = csmask.valid"
   ]
  }
 ],
 "metadata": {
  "kernelspec": {
   "display_name": "Python 3 (ipykernel)",
   "language": "python",
   "name": "python3"
  },
  "language_info": {
   "codemirror_mode": {
    "name": "ipython",
    "version": 3
   },
   "file_extension": ".py",
   "mimetype": "text/x-python",
   "name": "python",
   "nbconvert_exporter": "python",
   "pygments_lexer": "ipython3",
   "version": "3.11.10"
  }
 },
 "nbformat": 4,
 "nbformat_minor": 5
}
